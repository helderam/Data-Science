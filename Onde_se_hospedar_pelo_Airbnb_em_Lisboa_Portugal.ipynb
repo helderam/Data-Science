{
  "nbformat": 4,
  "nbformat_minor": 0,
  "metadata": {
    "colab": {
      "name": "PROJETO #1 - Onde se hospedar pelo Airbnb em Lisboa Portugal.ipynb",
      "provenance": [],
      "collapsed_sections": [],
      "include_colab_link": true
    },
    "kernelspec": {
      "name": "python3",
      "display_name": "Python 3"
    }
  },
  "cells": [
    {
      "cell_type": "markdown",
      "metadata": {
        "id": "view-in-github",
        "colab_type": "text"
      },
      "source": [
        "<a href=\"https://colab.research.google.com/github/helderam/data-science/blob/master/Onde_se_hospedar_pelo_Airbnb_em_Lisboa_Portugal.ipynb\" target=\"_parent\"><img src=\"https://colab.research.google.com/assets/colab-badge.svg\" alt=\"Open In Colab\"/></a>"
      ]
    },
    {
      "cell_type": "markdown",
      "metadata": {
        "id": "kLI0gJtzDGuQ",
        "colab_type": "text"
      },
      "source": [
        "\n",
        "<center><img alt=\"Analisando Airbnb\" width=\"10%\" src=\"https://www.area360.com.au/wp-content/uploads/2017/09/airbnb-logo.jpg\"></center>\n",
        "\n",
        "\n",
        "# Onde se hospedar pelo Airbnb em Lisboa, Portugal\n",
        "\n",
        "O [Airbnb](https://www.airbnb.com.br/) já é considerado como sendo a **maior empresa hoteleira da atualidade**, mesmo **não possuindo nenhum hotel !**\n",
        "\n",
        "No final de 2018, a Startup fundada 10 anos atrás, já havia **hospedado mais de 300 milhões** de pessoas ao redor de todo o mundo, desafiando as redes hoteleiras tradicionais.\n",
        "\n",
        "Uma das iniciativas do Airbnb é disponibilizar dados do site, para algumas das principais cidades do mundo. Por meio do portal [INSIDE Airbnb](http://insideairbnb.com/get-the-data.html), é possível baixar uma grande quantidade de dados para desenvolver projetos e soluções de *Data Science*.\n",
        "\n",
        "**Neste *notebook*, iremos analisar os dados referentes à cidade Lisboa que fica em Portugal, e ver quais insights podem ser extraídos a partir de dados brutos, objetivando escolher uma hospadagem com preço acessível e com boa avaliação dos hospedes**\n",
        "\n"
      ]
    },
    {
      "cell_type": "markdown",
      "metadata": {
        "id": "0zxQHhIUDF_2",
        "colab_type": "text"
      },
      "source": [
        "## Obtenção dos Dados\n",
        "\n",
        "Todos os dados usados aqui foram obtidos a partir do site Inside Airbnb. Para esta análise exploratória inicial, será baixado apenas o seguinte arquivo:\n",
        "\n",
        "**listings.csv** - Summary information and metrics for listings in Lisbon (good for visualisations)."
      ]
    },
    {
      "cell_type": "code",
      "metadata": {
        "id": "Vhp2wMPgJ6zX",
        "colab_type": "code",
        "colab": {}
      },
      "source": [
        "# importar os pacotes necessarios\n",
        "import pandas as pd\n",
        "import numpy as np\n",
        "import matplotlib.pyplot as plt\n",
        "import seaborn as sns\n",
        "\n",
        "%matplotlib inline"
      ],
      "execution_count": 0,
      "outputs": []
    },
    {
      "cell_type": "code",
      "metadata": {
        "id": "tUmoAT8DLQ5T",
        "colab_type": "code",
        "colab": {}
      },
      "source": [
        "# importar o arquivo listings.csv para um DataFrame\n",
        "df = pd.read_csv(\"http://data.insideairbnb.com/portugal/lisbon/lisbon/2019-09-27/visualisations/listings.csv\")"
      ],
      "execution_count": 0,
      "outputs": []
    },
    {
      "cell_type": "markdown",
      "metadata": {
        "id": "qb5By2nIMS6m",
        "colab_type": "text"
      },
      "source": [
        "## Análise dos Dados\n",
        "\n",
        "Vamos mostrar as 5 primeiras linhas dos dados obtidos para ter uma visão geral"
      ]
    },
    {
      "cell_type": "code",
      "metadata": {
        "id": "2iS_dae7YQtO",
        "colab_type": "code",
        "outputId": "26423070-0baa-45bd-e3e2-8d1b4913aaf9",
        "colab": {
          "base_uri": "https://localhost:8080/",
          "height": 438
        }
      },
      "source": [
        "# mostrar as 5 primeiras entradas/linhas\n",
        "df.head()"
      ],
      "execution_count": 4,
      "outputs": [
        {
          "output_type": "execute_result",
          "data": {
            "text/html": [
              "<div>\n",
              "<style scoped>\n",
              "    .dataframe tbody tr th:only-of-type {\n",
              "        vertical-align: middle;\n",
              "    }\n",
              "\n",
              "    .dataframe tbody tr th {\n",
              "        vertical-align: top;\n",
              "    }\n",
              "\n",
              "    .dataframe thead th {\n",
              "        text-align: right;\n",
              "    }\n",
              "</style>\n",
              "<table border=\"1\" class=\"dataframe\">\n",
              "  <thead>\n",
              "    <tr style=\"text-align: right;\">\n",
              "      <th></th>\n",
              "      <th>id</th>\n",
              "      <th>name</th>\n",
              "      <th>host_id</th>\n",
              "      <th>host_name</th>\n",
              "      <th>neighbourhood_group</th>\n",
              "      <th>neighbourhood</th>\n",
              "      <th>latitude</th>\n",
              "      <th>longitude</th>\n",
              "      <th>room_type</th>\n",
              "      <th>price</th>\n",
              "      <th>minimum_nights</th>\n",
              "      <th>number_of_reviews</th>\n",
              "      <th>last_review</th>\n",
              "      <th>reviews_per_month</th>\n",
              "      <th>calculated_host_listings_count</th>\n",
              "      <th>availability_365</th>\n",
              "    </tr>\n",
              "  </thead>\n",
              "  <tbody>\n",
              "    <tr>\n",
              "      <th>0</th>\n",
              "      <td>6499</td>\n",
              "      <td>Belém 1 Bedroom Historical Apartment</td>\n",
              "      <td>14455</td>\n",
              "      <td>Bruno</td>\n",
              "      <td>Lisboa</td>\n",
              "      <td>Belm</td>\n",
              "      <td>38.69675</td>\n",
              "      <td>-9.19840</td>\n",
              "      <td>Entire home/apt</td>\n",
              "      <td>36</td>\n",
              "      <td>3</td>\n",
              "      <td>16</td>\n",
              "      <td>2019-08-13</td>\n",
              "      <td>0.26</td>\n",
              "      <td>1</td>\n",
              "      <td>10</td>\n",
              "    </tr>\n",
              "    <tr>\n",
              "      <th>1</th>\n",
              "      <td>25659</td>\n",
              "      <td>Sunny,  Alfama  Sleeps 3 - Coeur d'Alfama</td>\n",
              "      <td>107347</td>\n",
              "      <td>Ellie</td>\n",
              "      <td>Lisboa</td>\n",
              "      <td>Santa Maria Maior</td>\n",
              "      <td>38.71167</td>\n",
              "      <td>-9.12696</td>\n",
              "      <td>Entire home/apt</td>\n",
              "      <td>60</td>\n",
              "      <td>3</td>\n",
              "      <td>108</td>\n",
              "      <td>2019-08-29</td>\n",
              "      <td>1.63</td>\n",
              "      <td>1</td>\n",
              "      <td>324</td>\n",
              "    </tr>\n",
              "    <tr>\n",
              "      <th>2</th>\n",
              "      <td>28066</td>\n",
              "      <td>ear the birds</td>\n",
              "      <td>120855</td>\n",
              "      <td>Lucia</td>\n",
              "      <td>Azambuja</td>\n",
              "      <td>Aveiras de Cima</td>\n",
              "      <td>39.14654</td>\n",
              "      <td>-8.91503</td>\n",
              "      <td>Private room</td>\n",
              "      <td>53</td>\n",
              "      <td>1</td>\n",
              "      <td>0</td>\n",
              "      <td>NaN</td>\n",
              "      <td>NaN</td>\n",
              "      <td>1</td>\n",
              "      <td>365</td>\n",
              "    </tr>\n",
              "    <tr>\n",
              "      <th>3</th>\n",
              "      <td>29138</td>\n",
              "      <td>Room for rent in shared house</td>\n",
              "      <td>125304</td>\n",
              "      <td>Susana</td>\n",
              "      <td>Lisboa</td>\n",
              "      <td>Areeiro</td>\n",
              "      <td>38.73634</td>\n",
              "      <td>-9.13792</td>\n",
              "      <td>Private room</td>\n",
              "      <td>71</td>\n",
              "      <td>1</td>\n",
              "      <td>0</td>\n",
              "      <td>NaN</td>\n",
              "      <td>NaN</td>\n",
              "      <td>1</td>\n",
              "      <td>365</td>\n",
              "    </tr>\n",
              "    <tr>\n",
              "      <th>4</th>\n",
              "      <td>29248</td>\n",
              "      <td>Apartamento Alfama com vista para o rio!</td>\n",
              "      <td>125768</td>\n",
              "      <td>Bárbara</td>\n",
              "      <td>Lisboa</td>\n",
              "      <td>Santa Maria Maior</td>\n",
              "      <td>38.71272</td>\n",
              "      <td>-9.12628</td>\n",
              "      <td>Entire home/apt</td>\n",
              "      <td>60</td>\n",
              "      <td>3</td>\n",
              "      <td>313</td>\n",
              "      <td>2019-09-18</td>\n",
              "      <td>2.94</td>\n",
              "      <td>1</td>\n",
              "      <td>354</td>\n",
              "    </tr>\n",
              "  </tbody>\n",
              "</table>\n",
              "</div>"
            ],
            "text/plain": [
              "      id  ... availability_365\n",
              "0   6499  ...               10\n",
              "1  25659  ...              324\n",
              "2  28066  ...              365\n",
              "3  29138  ...              365\n",
              "4  29248  ...              354\n",
              "\n",
              "[5 rows x 16 columns]"
            ]
          },
          "metadata": {
            "tags": []
          },
          "execution_count": 4
        }
      ]
    },
    {
      "cell_type": "markdown",
      "metadata": {
        "id": "3uTuKhNJNiMx",
        "colab_type": "text"
      },
      "source": [
        "Agora vamos ao dicionários de dados descrevendo para qual o conteúdo de cada coluna. "
      ]
    },
    {
      "cell_type": "code",
      "metadata": {
        "id": "bogSKsVfNzXT",
        "colab_type": "code",
        "outputId": "41892a27-7b54-4847-dab6-2c248dfb1cfd",
        "colab": {
          "base_uri": "https://localhost:8080/",
          "height": 358
        }
      },
      "source": [
        "#obtem mais informações sobre as colunas\n",
        "df.info()"
      ],
      "execution_count": 5,
      "outputs": [
        {
          "output_type": "stream",
          "text": [
            "<class 'pandas.core.frame.DataFrame'>\n",
            "RangeIndex: 25134 entries, 0 to 25133\n",
            "Data columns (total 16 columns):\n",
            "id                                25134 non-null int64\n",
            "name                              25112 non-null object\n",
            "host_id                           25134 non-null int64\n",
            "host_name                         25126 non-null object\n",
            "neighbourhood_group               25134 non-null object\n",
            "neighbourhood                     25134 non-null object\n",
            "latitude                          25134 non-null float64\n",
            "longitude                         25134 non-null float64\n",
            "room_type                         25134 non-null object\n",
            "price                             25134 non-null int64\n",
            "minimum_nights                    25134 non-null int64\n",
            "number_of_reviews                 25134 non-null int64\n",
            "last_review                       21585 non-null object\n",
            "reviews_per_month                 21585 non-null float64\n",
            "calculated_host_listings_count    25134 non-null int64\n",
            "availability_365                  25134 non-null int64\n",
            "dtypes: float64(3), int64(7), object(6)\n",
            "memory usage: 3.1+ MB\n"
          ],
          "name": "stdout"
        }
      ]
    },
    {
      "cell_type": "markdown",
      "metadata": {
        "id": "rYgjycEhZDfD",
        "colab_type": "text"
      },
      "source": [
        "O conjunto de dados possui 25134 linhas (entradas) e 16 colunas (variáveis)\n"
      ]
    },
    {
      "cell_type": "markdown",
      "metadata": {
        "id": "RYgvuebKNg8-",
        "colab_type": "text"
      },
      "source": [
        "\n",
        "**Dicionário das variáveis**\n",
        "\n",
        "* `id` - número de id gerado para identificar o imóvel\n",
        "* `name` - nome da propriedade anunciada\n",
        "* `host_id` - número de id do proprietário (anfitrião) da propriedade\n",
        "* `host_name` - Nome do anfitrião\n",
        "* `neighbourhood_group` - esta coluna não contém nenhum valor válido\n",
        "* `neighbourhood` - nome do bairro\n",
        "* `latitude` - coordenada da latitude da propriedade\n",
        "* `longitude` - coordenada da longitude da propriedade\n",
        "* `room_type` - informa o tipo de quarto que é oferecido\n",
        "* `price` - preço para alugar o imóvel\n",
        "* `minimum_nights` - quantidade mínima de noites para reservar\n",
        "* `number_of_reviews` - número de reviews que a propriedade possui\n",
        "* `last_review` - data do último review\n",
        "* `reviews_per_month` - quantidade de reviews por mês\n",
        "* `calculated_host_listings_count` - quantidade de imóveis do mesmo anfitrião\n",
        "* `availability_365` - número de dias de disponibilidade dentro de 365 dias\n",
        "\n",
        "Antes de iniciar qualquer análise, vamos verificar a cara do nosso *dataset*, analisando as 5 primeiras entradas."
      ]
    },
    {
      "cell_type": "markdown",
      "metadata": {
        "id": "yz1urSUGW9iE",
        "colab_type": "text"
      },
      "source": [
        "### Analisando valores ausentes\n",
        "\n",
        "Um ponto muito importante, antes de partir para analise dos dados, é fazer a limpeza de valores ausentes que podem distorcer os resultados."
      ]
    },
    {
      "cell_type": "code",
      "metadata": {
        "id": "plk2FjbCXOqP",
        "colab_type": "code",
        "outputId": "0b98cce8-c5b7-419f-8813-1e47e6e4d9a9",
        "colab": {
          "base_uri": "https://localhost:8080/",
          "height": 293
        }
      },
      "source": [
        "# ordenar em ordem decrescente as variáveis por seus valores ausentes\n",
        "(df.isnull().sum() / df.shape[0] * 100).sort_values(ascending=False)"
      ],
      "execution_count": 6,
      "outputs": [
        {
          "output_type": "execute_result",
          "data": {
            "text/plain": [
              "reviews_per_month                 14.120315\n",
              "last_review                       14.120315\n",
              "name                               0.087531\n",
              "host_name                          0.031829\n",
              "availability_365                   0.000000\n",
              "calculated_host_listings_count     0.000000\n",
              "number_of_reviews                  0.000000\n",
              "minimum_nights                     0.000000\n",
              "price                              0.000000\n",
              "room_type                          0.000000\n",
              "longitude                          0.000000\n",
              "latitude                           0.000000\n",
              "neighbourhood                      0.000000\n",
              "neighbourhood_group                0.000000\n",
              "host_id                            0.000000\n",
              "id                                 0.000000\n",
              "dtype: float64"
            ]
          },
          "metadata": {
            "tags": []
          },
          "execution_count": 6
        }
      ]
    },
    {
      "cell_type": "markdown",
      "metadata": {
        "id": "2QEuejWJa2Iw",
        "colab_type": "text"
      },
      "source": [
        "Podemos verificar que as variáveis reviews_per_month e last_review tem 14% nulos. \n",
        "\n",
        "Como vamos considerar o fator quantidade de reviews como o mais importante para seleção da hospedagem, precisamos tratar a reviews_per_month, zedando onde estiver com valores ausentes.\n",
        "\n"
      ]
    },
    {
      "cell_type": "code",
      "metadata": {
        "id": "quqxHB6yIANy",
        "colab_type": "code",
        "outputId": "da17e17b-ef93-4aeb-d69c-1b722631a88c",
        "colab": {
          "base_uri": "https://localhost:8080/",
          "height": 293
        }
      },
      "source": [
        "# Atualizar review_per_months para ZERO onde estiver NaN\n",
        "df = df.replace({\"reviews_per_month\": {np.nan: 0}})\n",
        "(df.isnull().sum() / df.shape[0] * 100).sort_values(ascending=False)"
      ],
      "execution_count": 7,
      "outputs": [
        {
          "output_type": "execute_result",
          "data": {
            "text/plain": [
              "last_review                       14.120315\n",
              "name                               0.087531\n",
              "host_name                          0.031829\n",
              "availability_365                   0.000000\n",
              "calculated_host_listings_count     0.000000\n",
              "reviews_per_month                  0.000000\n",
              "number_of_reviews                  0.000000\n",
              "minimum_nights                     0.000000\n",
              "price                              0.000000\n",
              "room_type                          0.000000\n",
              "longitude                          0.000000\n",
              "latitude                           0.000000\n",
              "neighbourhood                      0.000000\n",
              "neighbourhood_group                0.000000\n",
              "host_id                            0.000000\n",
              "id                                 0.000000\n",
              "dtype: float64"
            ]
          },
          "metadata": {
            "tags": []
          },
          "execution_count": 7
        }
      ]
    },
    {
      "cell_type": "markdown",
      "metadata": {
        "id": "iHXvvHIxaoNc",
        "colab_type": "text"
      },
      "source": [
        "### Identificando valores \"fora da curva\"\n",
        "\n",
        "Outro ponto importante é idenitificar valores muito fora do padrão. Podemos utilizar os gráficos abaixo para ter uma ideia visual destes \"outliers\".\n",
        "https://pt.wikipedia.org/wiki/Outlier\n",
        "\n",
        "Para isto vamos analisar visualmente o conteúdo da variavel número de reviews total e a média mensal de reviews. Além da variavel price e da minimum_nights pois não queremos aquele onde o minimo de noites seja maior que 7 dias.\n"
      ]
    },
    {
      "cell_type": "code",
      "metadata": {
        "id": "q2wWSfeRbmBo",
        "colab_type": "code",
        "outputId": "ee2dcbe6-967e-4fb3-a95d-8c9911147644",
        "colab": {
          "base_uri": "https://localhost:8080/",
          "height": 607
        }
      },
      "source": [
        "# plotar o histograma do número de reviews total\n",
        "df[['price','reviews_per_month','number_of_reviews', 'minimum_nights']].hist(bins=20, figsize=(25,10), color='Green');"
      ],
      "execution_count": 8,
      "outputs": [
        {
          "output_type": "display_data",
          "data": {
            "image/png": "[encoded data removed]",
            "text/plain": [
              "<Figure size 1800x720 with 4 Axes>"
            ]
          },
          "metadata": {
            "tags": []
          }
        }
      ]
    },
    {
      "cell_type": "code",
      "metadata": {
        "id": "RzsnbJAjaUK7",
        "colab_type": "code",
        "outputId": "3a23fd1b-67a2-4960-a1a2-5cd693c73cb9",
        "colab": {
          "base_uri": "https://localhost:8080/",
          "height": 277
        }
      },
      "source": [
        "# Analise  estatistica\n",
        "df[['number_of_reviews', 'reviews_per_month', 'price', 'minimum_nights']].describe()"
      ],
      "execution_count": 19,
      "outputs": [
        {
          "output_type": "execute_result",
          "data": {
            "text/html": [
              "<div>\n",
              "<style scoped>\n",
              "    .dataframe tbody tr th:only-of-type {\n",
              "        vertical-align: middle;\n",
              "    }\n",
              "\n",
              "    .dataframe tbody tr th {\n",
              "        vertical-align: top;\n",
              "    }\n",
              "\n",
              "    .dataframe thead th {\n",
              "        text-align: right;\n",
              "    }\n",
              "</style>\n",
              "<table border=\"1\" class=\"dataframe\">\n",
              "  <thead>\n",
              "    <tr style=\"text-align: right;\">\n",
              "      <th></th>\n",
              "      <th>number_of_reviews</th>\n",
              "      <th>reviews_per_month</th>\n",
              "      <th>price</th>\n",
              "      <th>minimum_nights</th>\n",
              "    </tr>\n",
              "  </thead>\n",
              "  <tbody>\n",
              "    <tr>\n",
              "      <th>count</th>\n",
              "      <td>25134.000000</td>\n",
              "      <td>25134.000000</td>\n",
              "      <td>25134.000000</td>\n",
              "      <td>25134.000000</td>\n",
              "    </tr>\n",
              "    <tr>\n",
              "      <th>mean</th>\n",
              "      <td>39.300947</td>\n",
              "      <td>1.539700</td>\n",
              "      <td>97.947561</td>\n",
              "      <td>2.820761</td>\n",
              "    </tr>\n",
              "    <tr>\n",
              "      <th>std</th>\n",
              "      <td>60.806113</td>\n",
              "      <td>1.652411</td>\n",
              "      <td>195.577414</td>\n",
              "      <td>10.546084</td>\n",
              "    </tr>\n",
              "    <tr>\n",
              "      <th>min</th>\n",
              "      <td>0.000000</td>\n",
              "      <td>0.000000</td>\n",
              "      <td>0.000000</td>\n",
              "      <td>1.000000</td>\n",
              "    </tr>\n",
              "    <tr>\n",
              "      <th>25%</th>\n",
              "      <td>2.000000</td>\n",
              "      <td>0.210000</td>\n",
              "      <td>48.000000</td>\n",
              "      <td>1.000000</td>\n",
              "    </tr>\n",
              "    <tr>\n",
              "      <th>50%</th>\n",
              "      <td>14.000000</td>\n",
              "      <td>1.000000</td>\n",
              "      <td>69.000000</td>\n",
              "      <td>2.000000</td>\n",
              "    </tr>\n",
              "    <tr>\n",
              "      <th>75%</th>\n",
              "      <td>50.000000</td>\n",
              "      <td>2.440000</td>\n",
              "      <td>100.000000</td>\n",
              "      <td>3.000000</td>\n",
              "    </tr>\n",
              "    <tr>\n",
              "      <th>max</th>\n",
              "      <td>825.000000</td>\n",
              "      <td>16.670000</td>\n",
              "      <td>12345.000000</td>\n",
              "      <td>1000.000000</td>\n",
              "    </tr>\n",
              "  </tbody>\n",
              "</table>\n",
              "</div>"
            ],
            "text/plain": [
              "       number_of_reviews  reviews_per_month         price  minimum_nights\n",
              "count       25134.000000       25134.000000  25134.000000    25134.000000\n",
              "mean           39.300947           1.539700     97.947561        2.820761\n",
              "std            60.806113           1.652411    195.577414       10.546084\n",
              "min             0.000000           0.000000      0.000000        1.000000\n",
              "25%             2.000000           0.210000     48.000000        1.000000\n",
              "50%            14.000000           1.000000     69.000000        2.000000\n",
              "75%            50.000000           2.440000    100.000000        3.000000\n",
              "max           825.000000          16.670000  12345.000000     1000.000000"
            ]
          },
          "metadata": {
            "tags": []
          },
          "execution_count": 19
        }
      ]
    },
    {
      "cell_type": "markdown",
      "metadata": {
        "id": "IHwKlCj5SQdx",
        "colab_type": "text"
      },
      "source": [
        "Podemos verificar que:\n",
        "\n",
        "**Number_of_reviews:** a maioria está entre 0 e 50 reviews, porém tem alguns com reviews acima de 600 e até mesmo 1 que chega a 800 reviews. Quanto maior a quantidade de reviews melhor.\n",
        "\n",
        "**Reviews_per_month:** a  maioria está entre 0 e 2 reviews por mês, sendo que em torno de 500 hospedagens chegam a 5 reviews mensais. Existem poucos que tem média de reviews acima de 15 mensais. Quanto mair a média melhor.\n",
        "\n",
        "**Price:** a maioria está abaixo de 100 euros. A mediana está em 69 euros.\n",
        "\n",
        "**Minimum_nigths:** a mediana em 2 dias, e podemos considerar outliers acima de 15 dias.\n",
        "\n",
        "Podemos verificar que com certeza temos um outlier no preço acima de 2000 euros. Pois 75% está abaixo de 100 euros.\n",
        "\n"
      ]
    },
    {
      "cell_type": "markdown",
      "metadata": {
        "id": "IcWfJD1ubJRV",
        "colab_type": "text"
      },
      "source": [
        "\n",
        "Como queremos somente hospedagens com valor que fiquem mais proximos da mediana, vamos criar novo conjunto de dados filtrando o que nos interessa, objetivando assim obter hospedagens com valores mais medianos e que tenham maior quantidade de locação e de revisões."
      ]
    },
    {
      "cell_type": "markdown",
      "metadata": {
        "id": "0SEzASNl9SiD",
        "colab_type": "text"
      },
      "source": [
        "### Fazendo a limpeza dos dados\n",
        "\n",
        "Levando em consideração que **queremos uma hospedagem com valor mediano**, vamos criar um novo conjunto de dados desconsiderando aquelas entradas que estão fora da faixa que desejamos. \n",
        "\n",
        "Vamos selecionar as que tenham mais reviews totais e mensais e também as que ficam mais próximo do centro, que o tipo de hospedagem seja 'Private room' ou 'Entire home/apt' e que a localização que seja o mais próximo do centro."
      ]
    },
    {
      "cell_type": "code",
      "metadata": {
        "id": "4b9ALL-kHLHk",
        "colab_type": "code",
        "outputId": "32d1079d-d72b-41fb-d2ed-7c61ab91e99a",
        "colab": {
          "base_uri": "https://localhost:8080/",
          "height": 98
        }
      },
      "source": [
        "# mostrar a quantidade de cada tipo de imóvel disponível\n",
        "df.room_type.value_counts()"
      ],
      "execution_count": 10,
      "outputs": [
        {
          "output_type": "execute_result",
          "data": {
            "text/plain": [
              "Entire home/apt    18329\n",
              "Private room        5740\n",
              "Hotel room           682\n",
              "Shared room          383\n",
              "Name: room_type, dtype: int64"
            ]
          },
          "metadata": {
            "tags": []
          },
          "execution_count": 10
        }
      ]
    },
    {
      "cell_type": "markdown",
      "metadata": {
        "id": "jDDKWHCKFQ40",
        "colab_type": "text"
      },
      "source": [
        "Aplicando os filtros e gerando ium novo dataset."
      ]
    },
    {
      "cell_type": "code",
      "metadata": {
        "id": "l6_ZqEXWcZVU",
        "colab_type": "code",
        "outputId": "21bd9cfa-4efb-47dc-f5d4-db0e6ece8b64",
        "colab": {
          "base_uri": "https://localhost:8080/",
          "height": 277
        }
      },
      "source": [
        "# Novo DF com dados filtrados\n",
        "novo = df.loc[ (df.price > 50) & (df.price < 70) & \n",
        "              (df.number_of_reviews > 50) & (df.reviews_per_month >= 2) &\n",
        "              (df.minimum_nights <= 7) &\n",
        "              ((df.room_type == 'Entire home/apt') | (df.room_type == 'Private room')) &\n",
        "              (df.neighbourhood_group == 'Lisboa') \n",
        "              # & (df.latitude > 38.71) & (df.latitude < 38.74) &\n",
        "              #(df.longitude > -9.14) & (df.longitude < -9.12)\n",
        "               ]\n",
        "novo[['number_of_reviews', 'reviews_per_month', 'price']].describe()"
      ],
      "execution_count": 43,
      "outputs": [
        {
          "output_type": "execute_result",
          "data": {
            "text/html": [
              "<div>\n",
              "<style scoped>\n",
              "    .dataframe tbody tr th:only-of-type {\n",
              "        vertical-align: middle;\n",
              "    }\n",
              "\n",
              "    .dataframe tbody tr th {\n",
              "        vertical-align: top;\n",
              "    }\n",
              "\n",
              "    .dataframe thead th {\n",
              "        text-align: right;\n",
              "    }\n",
              "</style>\n",
              "<table border=\"1\" class=\"dataframe\">\n",
              "  <thead>\n",
              "    <tr style=\"text-align: right;\">\n",
              "      <th></th>\n",
              "      <th>number_of_reviews</th>\n",
              "      <th>reviews_per_month</th>\n",
              "      <th>price</th>\n",
              "    </tr>\n",
              "  </thead>\n",
              "  <tbody>\n",
              "    <tr>\n",
              "      <th>count</th>\n",
              "      <td>991.000000</td>\n",
              "      <td>991.000000</td>\n",
              "      <td>991.000000</td>\n",
              "    </tr>\n",
              "    <tr>\n",
              "      <th>mean</th>\n",
              "      <td>144.321897</td>\n",
              "      <td>3.743663</td>\n",
              "      <td>60.272452</td>\n",
              "    </tr>\n",
              "    <tr>\n",
              "      <th>std</th>\n",
              "      <td>80.204035</td>\n",
              "      <td>1.420391</td>\n",
              "      <td>4.690032</td>\n",
              "    </tr>\n",
              "    <tr>\n",
              "      <th>min</th>\n",
              "      <td>51.000000</td>\n",
              "      <td>2.000000</td>\n",
              "      <td>51.000000</td>\n",
              "    </tr>\n",
              "    <tr>\n",
              "      <th>25%</th>\n",
              "      <td>83.000000</td>\n",
              "      <td>2.680000</td>\n",
              "      <td>56.000000</td>\n",
              "    </tr>\n",
              "    <tr>\n",
              "      <th>50%</th>\n",
              "      <td>122.000000</td>\n",
              "      <td>3.460000</td>\n",
              "      <td>60.000000</td>\n",
              "    </tr>\n",
              "    <tr>\n",
              "      <th>75%</th>\n",
              "      <td>184.500000</td>\n",
              "      <td>4.460000</td>\n",
              "      <td>65.000000</td>\n",
              "    </tr>\n",
              "    <tr>\n",
              "      <th>max</th>\n",
              "      <td>520.000000</td>\n",
              "      <td>16.670000</td>\n",
              "      <td>69.000000</td>\n",
              "    </tr>\n",
              "  </tbody>\n",
              "</table>\n",
              "</div>"
            ],
            "text/plain": [
              "       number_of_reviews  reviews_per_month       price\n",
              "count         991.000000         991.000000  991.000000\n",
              "mean          144.321897           3.743663   60.272452\n",
              "std            80.204035           1.420391    4.690032\n",
              "min            51.000000           2.000000   51.000000\n",
              "25%            83.000000           2.680000   56.000000\n",
              "50%           122.000000           3.460000   60.000000\n",
              "75%           184.500000           4.460000   65.000000\n",
              "max           520.000000          16.670000   69.000000"
            ]
          },
          "metadata": {
            "tags": []
          },
          "execution_count": 43
        }
      ]
    },
    {
      "cell_type": "markdown",
      "metadata": {
        "id": "_zJizY1T_Qq5",
        "colab_type": "text"
      },
      "source": [
        "\n",
        "Analisando a planilha podemos ver que melhorou muito pois a quantidade mediana de reviews subiu 442% e a quantidade mensal tambem melhorou muito.\n",
        "\n",
        "\n",
        "ANALISE | Antes | Depois | Aumento/Redução\n",
        "--- | --- | --- | ---\n",
        "entradas          | 25.134 | 991 | -96%\n",
        "number_of_reviews | 14 | 122 | +871%\n",
        "reviews_pre_month | 1  | 3,4 | +340%\n",
        "price             | 69 | 60 | -13%\n",
        "\n",
        "Agora temos dados mais próximos do nosso objetivo. Mas ainda falta mais analises para finalizarmos a seleção.\n"
      ]
    },
    {
      "cell_type": "code",
      "metadata": {
        "id": "g4OYch0DT9v_",
        "colab_type": "code",
        "outputId": "a51a3980-6895-4e13-9d67-3fb434af82e5",
        "colab": {
          "base_uri": "https://localhost:8080/",
          "height": 607
        }
      },
      "source": [
        "# após limpeza\n",
        "novo[['price','reviews_per_month','number_of_reviews', 'minimum_nights']].hist(bins=15, figsize=(25,10), color='Green');"
      ],
      "execution_count": 49,
      "outputs": [
        {
          "output_type": "display_data",
          "data": {
            "image/png": "[encoded data removed]",
            "text/plain": [
              "<Figure size 1800x720 with 4 Axes>"
            ]
          },
          "metadata": {
            "tags": []
          }
        }
      ]
    },
    {
      "cell_type": "markdown",
      "metadata": {
        "id": "rGQmwZ_5LQez",
        "colab_type": "text"
      },
      "source": [
        "Agora podemos ver com mais clareza. A Mediana minima de noites são 2 noites e temos muitos hospedagens com valor mediano de 50 euros."
      ]
    },
    {
      "cell_type": "markdown",
      "metadata": {
        "id": "MFa5NbnLJMcd",
        "colab_type": "text"
      },
      "source": [
        "### Analisando preço médio.\n",
        "\n",
        "Analisando preço médio por bairro, verificamos que a varição é pequena se compararmos com a variação da amostra original.\n"
      ]
    },
    {
      "cell_type": "code",
      "metadata": {
        "id": "MD_xa143JZpi",
        "colab_type": "code",
        "outputId": "af006f0a-ccd7-494e-ae2d-f6f334cf4023",
        "colab": {
          "base_uri": "https://localhost:8080/",
          "height": 407
        }
      },
      "source": [
        "# ver preços por bairros, na média - 5 mais caras e 5 mais baratas\n",
        "novo.groupby(['neighbourhood']).price.mean().sort_values(ascending=False)#[:10]"
      ],
      "execution_count": 45,
      "outputs": [
        {
          "output_type": "execute_result",
          "data": {
            "text/plain": [
              "neighbourhood\n",
              "Benfica                   69.000000\n",
              "Lumiar                    64.500000\n",
              "Alvalade                  61.500000\n",
              "Santo Antnio              60.910448\n",
              "Santa Maria Maior         60.667797\n",
              "Estrela                   60.602740\n",
              "Arroios                   60.600000\n",
              "Penha de Frana            60.304348\n",
              "So Vicente                60.231405\n",
              "Campo de Ourique          60.230769\n",
              "So Domingos de Benfica    60.000000\n",
              "Misericrdia               59.870536\n",
              "Parque das Naes           59.444444\n",
              "Areeiro                   59.166667\n",
              "Alcntara                  59.000000\n",
              "Avenidas Novas            58.625000\n",
              "Campolide                 58.000000\n",
              "Belm                      57.941176\n",
              "Ajuda                     57.428571\n",
              "Olivais                   56.000000\n",
              "Beato                     55.500000\n",
              "Carnide                   55.000000\n",
              "Name: price, dtype: float64"
            ]
          },
          "metadata": {
            "tags": []
          },
          "execution_count": 45
        }
      ]
    },
    {
      "cell_type": "markdown",
      "metadata": {
        "id": "gMvDPigoOBu3",
        "colab_type": "text"
      },
      "source": [
        "Vamos mostrar um mapa das hospedagens, e colorindo por seu preço, sendo o vermelho o mais barato e o azul escuro o mais caro.\n"
      ]
    },
    {
      "cell_type": "code",
      "metadata": {
        "id": "UxVJqJ_3W59I",
        "colab_type": "code",
        "outputId": "78edae1d-334c-4434-d736-f34c9824a46b",
        "colab": {
          "base_uri": "https://localhost:8080/",
          "height": 468
        }
      },
      "source": [
        "# plotar os imóveis pela latitude-longitude\n",
        "novo.plot(kind=\"scatter\", x='longitude', y='latitude', alpha=0.4, c=novo['price'], s=8,\n",
        "              cmap=plt.get_cmap('jet'), figsize=(12,8));"
      ],
      "execution_count": 54,
      "outputs": [
        {
          "output_type": "display_data",
          "data": {
            "image/png": "[encoded data removed]",
            "text/plain": [
              "<Figure size 864x576 with 2 Axes>"
            ]
          },
          "metadata": {
            "tags": []
          }
        }
      ]
    },
    {
      "cell_type": "markdown",
      "metadata": {
        "id": "GkvAg623RjoR",
        "colab_type": "text"
      },
      "source": [
        "## Conclusões\n"
      ]
    },
    {
      "cell_type": "markdown",
      "metadata": {
        "id": "rbZ3Hsy9Ypw8",
        "colab_type": "text"
      },
      "source": [
        "Como podemos verificar os dados normalmente vem com algumas variaveis contendo valores outliers e tambem valores ausentes. Muito importante fazer a limpeza antes de iniciar a analise exploratória.\n",
        "\n",
        "Neste estudo de caso, fizemos varias limpesas e também uma seleção conforme a nossa necessidade de visualizar as hospedagens que consideramos mais adequadas.\n",
        "\n",
        "Faltou analisar os reviews negativos, porém a amostra não disponibilzava esta informação.\n",
        "\n",
        "Abaixo uma lista dos hospedagens com maior reviews que é o fator principal que consideramos para selecionar as hospedagens. \n"
      ]
    },
    {
      "cell_type": "code",
      "metadata": {
        "id": "nCQw2Fws0Suh",
        "colab_type": "code",
        "outputId": "6cd5ccf6-6fdb-4420-e969-707d64628e63",
        "colab": {
          "base_uri": "https://localhost:8080/",
          "height": 406
        }
      },
      "source": [
        "# Apartamento mais avaliados\n",
        "df_clean.sort_values(by=\"number_of_reviews\", ascending=False)[:5]"
      ],
      "execution_count": 0,
      "outputs": [
        {
          "output_type": "execute_result",
          "data": {
            "text/html": [
              "<div>\n",
              "<style scoped>\n",
              "    .dataframe tbody tr th:only-of-type {\n",
              "        vertical-align: middle;\n",
              "    }\n",
              "\n",
              "    .dataframe tbody tr th {\n",
              "        vertical-align: top;\n",
              "    }\n",
              "\n",
              "    .dataframe thead th {\n",
              "        text-align: right;\n",
              "    }\n",
              "</style>\n",
              "<table border=\"1\" class=\"dataframe\">\n",
              "  <thead>\n",
              "    <tr style=\"text-align: right;\">\n",
              "      <th></th>\n",
              "      <th>id</th>\n",
              "      <th>name</th>\n",
              "      <th>host_id</th>\n",
              "      <th>host_name</th>\n",
              "      <th>neighbourhood_group</th>\n",
              "      <th>neighbourhood</th>\n",
              "      <th>latitude</th>\n",
              "      <th>longitude</th>\n",
              "      <th>room_type</th>\n",
              "      <th>price</th>\n",
              "      <th>minimum_nights</th>\n",
              "      <th>number_of_reviews</th>\n",
              "      <th>last_review</th>\n",
              "      <th>reviews_per_month</th>\n",
              "      <th>calculated_host_listings_count</th>\n",
              "      <th>availability_365</th>\n",
              "    </tr>\n",
              "  </thead>\n",
              "  <tbody>\n",
              "    <tr>\n",
              "      <th>1149</th>\n",
              "      <td>1745355</td>\n",
              "      <td>open space in Lisbon close airport</td>\n",
              "      <td>9186518</td>\n",
              "      <td>Andre</td>\n",
              "      <td>Lisboa</td>\n",
              "      <td>Olivais</td>\n",
              "      <td>38.76907</td>\n",
              "      <td>-9.11009</td>\n",
              "      <td>Entire home/apt</td>\n",
              "      <td>49</td>\n",
              "      <td>1</td>\n",
              "      <td>825</td>\n",
              "      <td>2019-09-24</td>\n",
              "      <td>11.45</td>\n",
              "      <td>1</td>\n",
              "      <td>153</td>\n",
              "    </tr>\n",
              "    <tr>\n",
              "      <th>2748</th>\n",
              "      <td>4689339</td>\n",
              "      <td>Double bed near Lisb airport(Blue)</td>\n",
              "      <td>23427234</td>\n",
              "      <td>António</td>\n",
              "      <td>Loures</td>\n",
              "      <td>Moscavide e Portela</td>\n",
              "      <td>38.78431</td>\n",
              "      <td>-9.11202</td>\n",
              "      <td>Private room</td>\n",
              "      <td>22</td>\n",
              "      <td>1</td>\n",
              "      <td>658</td>\n",
              "      <td>2019-09-26</td>\n",
              "      <td>12.34</td>\n",
              "      <td>3</td>\n",
              "      <td>53</td>\n",
              "    </tr>\n",
              "    <tr>\n",
              "      <th>55</th>\n",
              "      <td>133734</td>\n",
              "      <td>BED &amp; BREAKFAST WITH A VIEW! Sintra</td>\n",
              "      <td>656540</td>\n",
              "      <td>Marianne</td>\n",
              "      <td>Sintra</td>\n",
              "      <td>Colares</td>\n",
              "      <td>38.79621</td>\n",
              "      <td>-9.47342</td>\n",
              "      <td>Private room</td>\n",
              "      <td>26</td>\n",
              "      <td>1</td>\n",
              "      <td>645</td>\n",
              "      <td>2019-09-24</td>\n",
              "      <td>6.39</td>\n",
              "      <td>1</td>\n",
              "      <td>312</td>\n",
              "    </tr>\n",
              "    <tr>\n",
              "      <th>761</th>\n",
              "      <td>1085634</td>\n",
              "      <td>Cozy Flat at Bica/ Bairro Alto</td>\n",
              "      <td>5968047</td>\n",
              "      <td>Maria</td>\n",
              "      <td>Lisboa</td>\n",
              "      <td>Misericrdia</td>\n",
              "      <td>38.70926</td>\n",
              "      <td>-9.14607</td>\n",
              "      <td>Entire home/apt</td>\n",
              "      <td>40</td>\n",
              "      <td>1</td>\n",
              "      <td>642</td>\n",
              "      <td>2019-09-24</td>\n",
              "      <td>8.27</td>\n",
              "      <td>1</td>\n",
              "      <td>291</td>\n",
              "    </tr>\n",
              "    <tr>\n",
              "      <th>94</th>\n",
              "      <td>176153</td>\n",
              "      <td>The White House - Historical Center</td>\n",
              "      <td>842219</td>\n",
              "      <td>Inês &amp; António</td>\n",
              "      <td>Lisboa</td>\n",
              "      <td>Misericrdia</td>\n",
              "      <td>38.70817</td>\n",
              "      <td>-9.14368</td>\n",
              "      <td>Entire home/apt</td>\n",
              "      <td>200</td>\n",
              "      <td>1</td>\n",
              "      <td>636</td>\n",
              "      <td>2019-09-16</td>\n",
              "      <td>6.42</td>\n",
              "      <td>2</td>\n",
              "      <td>215</td>\n",
              "    </tr>\n",
              "  </tbody>\n",
              "</table>\n",
              "</div>"
            ],
            "text/plain": [
              "           id  ... availability_365\n",
              "1149  1745355  ...              153\n",
              "2748  4689339  ...               53\n",
              "55     133734  ...              312\n",
              "761   1085634  ...              291\n",
              "94     176153  ...              215\n",
              "\n",
              "[5 rows x 16 columns]"
            ]
          },
          "metadata": {
            "tags": []
          },
          "execution_count": 38
        }
      ]
    },
    {
      "cell_type": "markdown",
      "metadata": {
        "id": "a1e07a3x383p",
        "colab_type": "text"
      },
      "source": [
        "Agora é um trabalho manual de selecionar a hospedagem definitiva, utilizando o proprio site do Aribnb e passando como parametro o id da hospedagem:\n",
        "\n",
        "Para consultar a hospedagem, utilize este link: https://www.airbnb.com.br/rooms/1745355 lembrando de trocar o último código pelo ID da hospedagem.\n",
        "\n"
      ]
    }
  ]
}